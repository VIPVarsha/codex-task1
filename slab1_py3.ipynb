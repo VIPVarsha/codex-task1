{
  "nbformat": 4,
  "nbformat_minor": 0,
  "metadata": {
    "colab": {
      "provenance": []
    },
    "kernelspec": {
      "name": "python3",
      "display_name": "Python 3"
    },
    "language_info": {
      "name": "python"
    }
  },
  "cells": [
    {
      "cell_type": "markdown",
      "source": [
        "Create a \"Matrix Operations Tool\" using Python and the NumPy library. The application should allow users to input matrices and perform operations like addition, subtraction, multiplication, transpose, and determinant calculation. Include an interactive interface to display results in a structured format.\n"
      ],
      "metadata": {
        "id": "hrqTN4G9sdci"
      }
    },
    {
      "cell_type": "code",
      "execution_count": 9,
      "metadata": {
        "colab": {
          "base_uri": "https://localhost:8080/"
        },
        "collapsed": true,
        "id": "8VoChF7fnsQR",
        "outputId": "8aae108e-b0e4-4866-e744-07d940804d23"
      },
      "outputs": [
        {
          "output_type": "stream",
          "name": "stdout",
          "text": [
            "\n",
            "Available operations: add, subtract, multiply, transpose, determinant\n",
            "Enter operation: add\n",
            "Enter matrix A (rows separated by ';', numbers separated by spaces):\n",
            "2 3;2 1\n",
            "Enter matrix B (rows separated by ';', numbers separated by spaces):\n",
            "1 2;1 1\n",
            "\n",
            "Result:\n",
            "[[3. 5.]\n",
            " [3. 2.]]\n"
          ]
        }
      ],
      "source": [
        "import numpy as np\n",
        "\n",
        "# Function to get matrix input\n",
        "def get_matrix(name):\n",
        "    print(f\"Enter matrix {name} (rows separated by ';', numbers separated by spaces):\")\n",
        "    try:\n",
        "        matrix = [[float(num) for num in row.split()] for row in input().split(\";\")]\n",
        "        return np.array(matrix)\n",
        "    except ValueError:\n",
        "        print(\"Invalid format! Enter space-separated numbers in rows, separated by ';'.\")\n",
        "        return get_matrix(name)\n",
        "\n",
        "# Function to perform operations\n",
        "def matrix_operations():\n",
        "    print(\"\\nAvailable operations: add, subtract, multiply, transpose, determinant\")\n",
        "    operation = input(\"Enter operation: \").strip().lower()\n",
        "\n",
        "    if operation in [\"add\", \"subtract\", \"multiply\"]:\n",
        "        A = get_matrix(\"A\")\n",
        "        B = get_matrix(\"B\")\n",
        "\n",
        "        if A.shape != B.shape and operation in [\"add\", \"subtract\"]:\n",
        "            print(\"Error: Matrices must have the same dimensions.\")\n",
        "            return\n",
        "\n",
        "        if operation == \"multiply\" and A.shape[1] != B.shape[0]:\n",
        "            print(\"Error: A's columns must match B's rows for multiplication.\")\n",
        "            return\n",
        "\n",
        "        result = A + B if operation == \"add\" else A - B if operation == \"subtract\" else np.dot(A, B)\n",
        "        print(f\"\\nResult:\\n{result}\")\n",
        "\n",
        "    elif operation in [\"transpose\", \"determinant\"]:\n",
        "        A = get_matrix(\"A\")\n",
        "\n",
        "        if operation == \"transpose\":\n",
        "            print(f\"\\nTranspose of A:\\n{A.T}\")\n",
        "        elif operation == \"determinant\":\n",
        "            if A.shape[0] != A.shape[1]:\n",
        "                print(\"Error: Determinant requires a square matrix.\")\n",
        "                return\n",
        "            print(f\"\\nDeterminant of A: {np.linalg.det(A)}\")\n",
        "\n",
        "    else:\n",
        "        print(\"Invalid operation! Please enter a valid option.\")\n",
        "\n",
        "# Run the tool\n",
        "matrix_operations()\n"
      ]
    }
  ]
}